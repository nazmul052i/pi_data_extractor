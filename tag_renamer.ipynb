{
 "cells": [
  {
   "cell_type": "code",
   "execution_count": 11,
   "metadata": {},
   "outputs": [
    {
     "name": "stdout",
     "output_type": "stream",
     "text": [
      "✅ File saved with updated headers: DC5_Data1.txt\n"
     ]
    }
   ],
   "source": [
    "import pandas as pd\n",
    "\n",
    "# === File paths ===\n",
    "input_file = \"DC5_Data.txt\"\n",
    "output_file = \"DC5_Data1.txt\"\n",
    "tag_map_file = \"tag_map.csv\"\n",
    "\n",
    "# === Step 1: Load mapping (PI Tag → DCS) ===\n",
    "tag_map_df = pd.read_csv(tag_map_file)\n",
    "tag_dict = dict(zip(tag_map_df[\"PI Tag\"], tag_map_df[\"DCS\"]))\n",
    "\n",
    "# === Step 2: Read all lines from original file ===\n",
    "with open(input_file, \"r\", encoding=\"utf-8\") as f:\n",
    "    lines = f.readlines()\n",
    "\n",
    "# === Step 3: Update header line (second line, index 1) ===\n",
    "header_line = lines[1].strip()\n",
    "delimiter = \"\\t\" if \"\\t\" in header_line else \",\"\n",
    "headers = header_line.split(delimiter)\n",
    "\n",
    "# === Step 4: Apply mapping to headers ===\n",
    "def map_tag(tag):\n",
    "    if tag in [\"Time\", \"Status\"]:\n",
    "        return tag\n",
    "    return tag_dict.get(tag, tag)\n",
    "\n",
    "mapped_headers = [map_tag(tag) for tag in headers]\n",
    "lines[1] = delimiter.join(mapped_headers) + \"\\n\"  # update line 2 in place\n",
    "\n",
    "# === Step 5: Save full file with modified header ===\n",
    "with open(output_file, \"w\", encoding=\"utf-8\") as f:\n",
    "    f.writelines(lines)\n",
    "\n",
    "print(f\"✅ File saved with updated headers: {output_file}\")\n"
   ]
  }
 ],
 "metadata": {
  "kernelspec": {
   "display_name": "Python 3",
   "language": "python",
   "name": "python3"
  },
  "language_info": {
   "codemirror_mode": {
    "name": "ipython",
    "version": 3
   },
   "file_extension": ".py",
   "mimetype": "text/x-python",
   "name": "python",
   "nbconvert_exporter": "python",
   "pygments_lexer": "ipython3",
   "version": "3.12.10"
  },
  "orig_nbformat": 4
 },
 "nbformat": 4,
 "nbformat_minor": 2
}
